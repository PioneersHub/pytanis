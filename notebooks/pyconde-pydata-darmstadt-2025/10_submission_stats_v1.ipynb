{
 "cells": [
  {
   "cell_type": "code",
   "execution_count": null,
   "metadata": {},
   "outputs": [],
   "source": [
    "import logging\n",
    "import math\n",
    "import os\n",
    "import sys\n",
    "from pathlib import Path\n",
    "\n",
    "import tomli\n",
    "import numpy as np\n",
    "import structlog\n",
    "\n",
    "%load_ext autoreload\n",
    "%autoreload 2\n",
    "\n",
    "import matplotlib as mpl\n",
    "import matplotlib.pyplot as plt\n",
    "%matplotlib inline\n",
    "%config InlineBackend.figure_format = 'retina'\n",
    "\n",
    "import seaborn as sns\n",
    "sns.set_context('poster')\n",
    "sns.set(rc={'figure.figsize': (16, 9.)})\n",
    "sns.set_style('whitegrid')\n",
    "\n",
    "import pandas as pd\n",
    "pd.set_option('display.max_rows', 120)\n",
    "pd.set_option('display.max_columns', 120)"
   ]
  },
  {
   "cell_type": "code",
   "execution_count": null,
   "metadata": {},
   "outputs": [],
   "source": [
    "# Set the logging level\n",
    "logging.basicConfig(level=logging.INFO, stream=sys.stdout)"
   ]
  },
  {
   "cell_type": "code",
   "execution_count": null,
   "metadata": {},
   "outputs": [],
   "source": [
    "import pytanis\n",
    "from pytanis import GSheetsClient, PretalxClient\n",
    "from pytanis.pretalx import subs_as_df, reviews_as_df, speakers_as_df"
   ]
  },
  {
   "cell_type": "code",
   "execution_count": null,
   "metadata": {},
   "outputs": [],
   "source": [
    "# Be aware that this notebook might only run with the following version\n",
    "pytanis.__version__"
   ]
  },
  {
   "cell_type": "code",
   "execution_count": null,
   "metadata": {},
   "outputs": [],
   "source": [
    "# Import event-specific settings to don't have them here in the notebook\n",
    "with open('config.toml', 'rb') as fh:\n",
    "    cfg = tomli.load(fh)"
   ]
  },
  {
   "cell_type": "code",
   "execution_count": null,
   "metadata": {},
   "outputs": [],
   "source": [
    "pretalx_client = PretalxClient(blocking=True)\n",
    "subs_count, subs = pretalx_client.submissions(cfg['event_name'], params={'questions': 'all'})\n",
    "spkrs_count, spkrs = pretalx_client.speakers(cfg['event_name'], params={'questions': 'all'})\n",
    "revs_count, revs = pretalx_client.reviews(cfg['event_name'])\n",
    "subs, revs, spkrs = list(subs), list(revs), list(spkrs)"
   ]
  },
  {
   "cell_type": "code",
   "execution_count": null,
   "metadata": {},
   "outputs": [],
   "source": [
    "subs_df = subs_as_df(subs, with_questions=True)\n",
    "revs_df = reviews_as_df(revs)\n",
    "spkrs_df = speakers_as_df(spkrs, with_questions=True)"
   ]
  },
  {
   "cell_type": "code",
   "execution_count": null,
   "metadata": {},
   "outputs": [],
   "source": [
    "# filter subs_df for the talks that have the submitted state\n",
    "talks_df = subs_df[subs_df.State == 'submitted']\n",
    "talks_df.head(2)\n"
   ]
  },
  {
   "cell_type": "code",
   "execution_count": null,
   "metadata": {},
   "outputs": [],
   "source": [
    "# Alle available tracks\n",
    "all_tracks = ['PyCon: MLOps & DevOps', 'PyCon: Programming & Software Engineering', 'PyCon: Python Language & Ecosystem', 'PyCon: Security', 'PyCon: Testing', 'PyCon: Django & Web', 'PyData: Data Handling & Data Engineering', 'PyData: Machine Learning & Deep Learning & Statistics', 'PyData: Natural Language Processing & Audio (incl. Generative AI NLP)', 'PyData: Computer Vision (incl. Generative AI CV)', 'PyData: Generative AI', 'PyData: Embedded Systems & Robotics', 'PyData: PyData & Scientific Libraries Stack', 'PyData: Visualisation & Jupyter', 'PyData: Research Software Engineering', 'General: Community & Diversity', 'General: Education, Career & Life', 'General: Ethics & Privacy', 'General: Infrastructure - Hardware & Cloud', 'General: Others']\n",
    "\n",
    "# all available submission types\n",
    "submission_types = talks_df['Submission type'].unique()\n",
    "\n",
    "# all available expertise levels\n",
    "expertise_levels = list(talks_df['Q: Expected audience expertise: Domain'].unique()) + list(talks_df['Q: Expected audience expertise: Python'].unique())\n",
    "expertise_levels = list(set(expertise_levels))\n",
    "\n",
    "# all expertise categories\n",
    "expertise_categories = ['Q: Expected audience expertise: Python', 'Q: Expected audience expertise: Domain\t']"
   ]
  },
  {
   "cell_type": "code",
   "execution_count": null,
   "metadata": {},
   "outputs": [],
   "source": [
    "# create an dataframe with 'all_tracks' and all 'submission_types' as rows\n",
    "tracks_df = pd.DataFrame(all_tracks, columns=['Track'])"
   ]
  },
  {
   "cell_type": "code",
   "execution_count": null,
   "metadata": {},
   "outputs": [],
   "source": [
    "submission_types"
   ]
  },
  {
   "cell_type": "markdown",
   "metadata": {},
   "source": [
    "### Stats for Talks"
   ]
  },
  {
   "cell_type": "code",
   "execution_count": null,
   "metadata": {},
   "outputs": [],
   "source": [
    "# group submittaded talks by track and count the number of submissions\n",
    "talks_quantification_by_domain_expertise = talks_df.loc[talks_df['Submission type'] == 'Talk'].groupby(['Track', 'Q: Expected audience expertise: Domain']).size().unstack(fill_value=0)\n",
    "talks_quantification_by_domain_expertise = tracks_df.join(talks_quantification_by_domain_expertise, on='Track')\n",
    "talks_quantification_by_domain_expertise = talks_quantification_by_domain_expertise[['Track', 'None', 'Novice', 'Intermediate', 'Advanced']]\n",
    "# add total number of submissions\n",
    "talks_quantification_by_domain_expertise['Total'] = talks_quantification_by_domain_expertise[['None', 'Novice', 'Intermediate', 'Advanced']].sum(axis=1)\n",
    "\n",
    "talks_quantification_by_python_expertise = talks_df.loc[talks_df['Submission type'] == 'Talk'].groupby(['Track', 'Q: Expected audience expertise: Python']).size().unstack(fill_value=0)\n",
    "talks_quantification_by_python_expertise = tracks_df.join(talks_quantification_by_python_expertise, on='Track')\n",
    "talks_quantification_by_python_expertise = talks_quantification_by_python_expertise[['Track', 'None', 'Novice', 'Intermediate', 'Advanced']]\n",
    "talks_quantification_by_python_expertise['Total'] = talks_quantification_by_python_expertise[['None', 'Novice', 'Intermediate', 'Advanced']].sum(axis=1)\n",
    "\n",
    "\n",
    "# join talks_quantification_by_domain_expertise and talks_quantification_by_python_expertise and keep add a group column name fir the expertise level\n",
    "talks_quantification = pd.merge(talks_quantification_by_domain_expertise, talks_quantification_by_python_expertise, on='Track', how='outer')\n",
    "\n",
    "talks_quantification.columns = pd.MultiIndex.from_tuples([\n",
    "    ('', col) if col == 'Track' else \n",
    "    ('Expected Domain Expertise by Audience', col.rstrip(\"_xy\")) if col.endswith('_x') else \n",
    "    ('Expected Python Expertise by Audience', col.rstrip(\"_xy\")) \n",
    "    for col in talks_quantification.columns\n",
    "    \n",
    "])\n",
    "\n",
    "talks_quantification.fillna(0, inplace=True)\n",
    "# convert float columns to integer\n",
    "talks_quantification = talks_quantification.astype({col: int for col in talks_quantification.columns if col[1] != 'Track'})\n",
    "\n",
    "talks_quantification\n"
   ]
  },
  {
   "cell_type": "code",
   "execution_count": null,
   "metadata": {},
   "outputs": [],
   "source": [
    "talks_quantification_by_domain_expertise"
   ]
  },
  {
   "cell_type": "code",
   "execution_count": null,
   "metadata": {},
   "outputs": [],
   "source": [
    "talks_quantification_by_python_expertise"
   ]
  },
  {
   "cell_type": "markdown",
   "metadata": {},
   "source": [
    "### Stats for Tutorials"
   ]
  },
  {
   "cell_type": "markdown",
   "metadata": {},
   "source": [
    "### Stats for Talks (long)"
   ]
  }
 ],
 "metadata": {
  "kernelspec": {
   "display_name": "Python 3 (ipykernel)",
   "language": "python",
   "name": "python3"
  },
  "language_info": {
   "codemirror_mode": {
    "name": "ipython",
    "version": 3
   },
   "file_extension": ".py",
   "mimetype": "text/x-python",
   "name": "python",
   "nbconvert_exporter": "python",
   "pygments_lexer": "ipython3",
   "version": "3.12.7"
  }
 },
 "nbformat": 4,
 "nbformat_minor": 2
}

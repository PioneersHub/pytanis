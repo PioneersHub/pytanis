{
 "cells": [
  {
   "cell_type": "code",
   "execution_count": 26,
   "metadata": {},
   "outputs": [
    {
     "name": "stdout",
     "output_type": "stream",
     "text": [
      "The autoreload extension is already loaded. To reload it, use:\n",
      "  %reload_ext autoreload\n"
     ]
    }
   ],
   "source": [
    "import os\n",
    "import sys\n",
    "import math\n",
    "import logging\n",
    "import structlog\n",
    "from pathlib import Path\n",
    "import json\n",
    "import re\n",
    "from itertools import product, combinations\n",
    "from enum import Enum\n",
    "\n",
    "import tomli\n",
    "import numpy as np\n",
    "\n",
    "%load_ext autoreload\n",
    "%autoreload 2\n",
    "\n",
    "import matplotlib as mpl\n",
    "import matplotlib.pyplot as plt\n",
    "%matplotlib inline\n",
    "%config InlineBackend.figure_format = 'retina'\n",
    "\n",
    "import seaborn as sns\n",
    "sns.set_context(\"poster\")\n",
    "sns.set(rc={\"figure.figsize\": (12, 6.)})\n",
    "sns.set_style(\"whitegrid\")\n",
    "\n",
    "import pandas as pd\n",
    "pd.set_option(\"display.max_rows\", 120)\n",
    "pd.set_option(\"display.max_columns\", 120)"
   ]
  },
  {
   "cell_type": "code",
   "execution_count": 3,
   "metadata": {},
   "outputs": [],
   "source": [
    "logging.basicConfig(level=logging.WARNING, stream=sys.stdout)"
   ]
  },
  {
   "cell_type": "code",
   "execution_count": 4,
   "metadata": {},
   "outputs": [],
   "source": [
    "import pytanis\n",
    "from pytanis import GSheetsClient, PretalxClient, get_cfg\n",
    "from pytanis.google import Scope, gsheet_rows_for_fmt, worksheet_range\n",
    "from pytanis.review import read_assignment_as_df, save_assignments_as_json, Col\n",
    "from pytanis.pretalx import subs_as_df, reviews_as_df, speakers_as_df\n",
    "from pytanis.utils import implode\n",
    "from pytanis.highs import set_solution_from_file, read_sol_file"
   ]
  },
  {
   "cell_type": "code",
   "execution_count": 5,
   "metadata": {},
   "outputs": [
    {
     "data": {
      "text/plain": [
       "'0.7.1.post1.dev5+g54f57c2.d20240618'"
      ]
     },
     "execution_count": 5,
     "metadata": {},
     "output_type": "execute_result"
    }
   ],
   "source": [
    "# Be aware that this notebook might only run with the following version\n",
    "pytanis.__version__ "
   ]
  },
  {
   "cell_type": "code",
   "execution_count": 6,
   "metadata": {},
   "outputs": [],
   "source": [
    "# Import event-specific settings to don't have them here in the notebook\n",
    "with open('config.toml', 'rb') as fh:\n",
    "    cfg = tomli.load(fh)\n"
   ]
  },
  {
   "cell_type": "code",
   "execution_count": 39,
   "metadata": {},
   "outputs": [],
   "source": [
    "class Rooms(str, Enum):\n",
    "    SPECTRUM = \"Spectrum\"\n",
    "    TITANIUM3 = \"Titanium3\"\n",
    "    HELIUM3 = \"Helium3\"\n",
    "    PLATINUM3 = \"Platinum3\"\n",
    "    EUROPIUM2 = \"Europium2\"\n",
    "    HASSIUM = \"Hassium\"\n",
    "    PALLADIUM = \"Palladium\"\n",
    "    FERRUM = \"Ferrum\"\n",
    "    DYNAMICUM = \"Dynamicum\"\n",
    "\n",
    "    def __str__(self):\n",
    "        return str(self.value)"
   ]
  },
  {
   "cell_type": "markdown",
   "metadata": {
    "tags": []
   },
   "source": [
    "## Gather all Data, i.e. Submissions, Votes and Scheduling Data"
   ]
  },
  {
   "cell_type": "code",
   "execution_count": 41,
   "metadata": {},
   "outputs": [
    {
     "data": {
      "application/vnd.jupyter.widget-view+json": {
       "model_id": "adf7f968003d4bafad5c3515a2a94378",
       "version_major": 2,
       "version_minor": 0
      },
      "text/plain": [
       "  0%|          | 0/179 [00:00<?, ?it/s]"
      ]
     },
     "metadata": {},
     "output_type": "display_data"
    },
    {
     "data": {
      "application/vnd.jupyter.widget-view+json": {
       "model_id": "14bde6e1020d45d8a52a8c8854f21654",
       "version_major": 2,
       "version_minor": 0
      },
      "text/plain": [
       "  0%|          | 0/9 [00:00<?, ?it/s]"
      ]
     },
     "metadata": {},
     "output_type": "display_data"
    }
   ],
   "source": [
    "pretalx_client = PretalxClient(blocking=True)\n",
    "talks_count, talks = pretalx_client.submissions(cfg['event_name'], params={\"questions\": \"all\", \"state\": [\"confirmed\", \"accepted\"]})\n",
    "talks = list(talks)\n",
    "rooms_count, rooms = pretalx_client.rooms(cfg['event_name'])\n",
    "rooms = list(rooms)"
   ]
  },
  {
   "cell_type": "code",
   "execution_count": 62,
   "metadata": {},
   "outputs": [],
   "source": [
    "talks_df = subs_as_df(talks, with_questions=True)\n",
    "# Ignore Keynotes when scheduling\n",
    "talks_df = talks_df.loc[~(talks_df[Col.submission_type] == \"Keynote\")]\n",
    "# Ignore Kids workshop when scheduling\n",
    "talks_df = talks_df.loc[~(talks_df[Col.submission_type] == \"Kids Workshop\")]\n",
    "# Split track up in main/sub track\n",
    "talks_df.insert(2, 'Main track', talks_df[Col.track].map(lambda x: x.split(\":\")[0] if not pd.isna(x) else x))\n",
    "talks_df[Col.track] = talks_df[Col.track].map(lambda x: x.split(\":\")[-1] if not pd.isna(x) else x).map(lambda x: re.sub('[\\W_]+', '', x))"
   ]
  },
  {
   "cell_type": "code",
   "execution_count": 64,
   "metadata": {
    "tags": []
   },
   "outputs": [
    {
     "name": "stdout",
     "output_type": "stream",
     "text": [
      "Main tracks ['PyCon', 'Sponsor', 'PyData', 'General']\n",
      "Sub tracks ['MLOpsDevOps', 'Security', 'Sponsor', 'DataHandlingEngineering', 'DjangoWeb', 'NaturalLanguageProcessingAudioinclGenerativeAINLP', 'MachineLearningDeepLearningStatistics', 'ProgrammingSoftwareEngineering', 'Others', 'EducationCareerLife', 'EmbeddedSystemsRobotics', 'ComputerVisioninclGenerativeAICV', 'PythonLanguageEcosystem', 'PyDataScientificLibrariesStack', 'GenerativeAI', 'VisualisationJupyter', 'Testing', 'Rust', 'InfrastructureHardwareCloud', 'EthicsPrivacy', 'ResearchSoftwareEngineering', 'CommunityDiversity']\n"
     ]
    }
   ],
   "source": [
    "main_tracks = [mt for mt in talks_df[\"Main track\"].unique() if mt != 'Plenary']\n",
    "sub_tracks = [st for st in talks_df[Col.track].unique() if st != 'Plenary']\n",
    "print(\"Main tracks\", main_tracks)\n",
    "print(\"Sub tracks\", sub_tracks)"
   ]
  },
  {
   "cell_type": "code",
   "execution_count": 65,
   "metadata": {
    "tags": []
   },
   "outputs": [
    {
     "data": {
      "text/html": [
       "<div>\n",
       "<style scoped>\n",
       "    .dataframe tbody tr th:only-of-type {\n",
       "        vertical-align: middle;\n",
       "    }\n",
       "\n",
       "    .dataframe tbody tr th {\n",
       "        vertical-align: top;\n",
       "    }\n",
       "\n",
       "    .dataframe thead th {\n",
       "        text-align: right;\n",
       "    }\n",
       "</style>\n",
       "<table border=\"1\" class=\"dataframe\">\n",
       "  <thead>\n",
       "    <tr style=\"text-align: right;\">\n",
       "      <th></th>\n",
       "      <th>Submission</th>\n",
       "      <th>General</th>\n",
       "      <th>PyCon</th>\n",
       "      <th>PyData</th>\n",
       "      <th>Sponsor</th>\n",
       "    </tr>\n",
       "  </thead>\n",
       "  <tbody>\n",
       "    <tr>\n",
       "      <th>0</th>\n",
       "      <td>3CYZUH</td>\n",
       "      <td>0</td>\n",
       "      <td>1</td>\n",
       "      <td>0</td>\n",
       "      <td>0</td>\n",
       "    </tr>\n",
       "    <tr>\n",
       "      <th>1</th>\n",
       "      <td>3DSU8V</td>\n",
       "      <td>0</td>\n",
       "      <td>1</td>\n",
       "      <td>0</td>\n",
       "      <td>0</td>\n",
       "    </tr>\n",
       "    <tr>\n",
       "      <th>4</th>\n",
       "      <td>3MRJLS</td>\n",
       "      <td>0</td>\n",
       "      <td>0</td>\n",
       "      <td>0</td>\n",
       "      <td>1</td>\n",
       "    </tr>\n",
       "    <tr>\n",
       "      <th>5</th>\n",
       "      <td>3SLWC8</td>\n",
       "      <td>0</td>\n",
       "      <td>0</td>\n",
       "      <td>0</td>\n",
       "      <td>1</td>\n",
       "    </tr>\n",
       "    <tr>\n",
       "      <th>6</th>\n",
       "      <td>3VYSMS</td>\n",
       "      <td>0</td>\n",
       "      <td>1</td>\n",
       "      <td>0</td>\n",
       "      <td>0</td>\n",
       "    </tr>\n",
       "  </tbody>\n",
       "</table>\n",
       "</div>"
      ],
      "text/plain": [
       "  Submission  General  PyCon  PyData  Sponsor\n",
       "0     3CYZUH        0      1       0        0\n",
       "1     3DSU8V        0      1       0        0\n",
       "4     3MRJLS        0      0       0        1\n",
       "5     3SLWC8        0      0       0        1\n",
       "6     3VYSMS        0      1       0        0"
      ]
     },
     "execution_count": 65,
     "metadata": {},
     "output_type": "execute_result"
    }
   ],
   "source": [
    "talk2main_track = pd.concat([talks_df[Col.submission], pd.get_dummies(talks_df[\"Main track\"], dtype=int)], axis=1)\n",
    "talk2main_track.head()"
   ]
  },
  {
   "cell_type": "code",
   "execution_count": 66,
   "metadata": {
    "tags": []
   },
   "outputs": [],
   "source": [
    "talk2main_track = talk2main_track.melt(id_vars=Col.submission, value_vars=talk2main_track.columns, var_name='Main track').sort_values([Col.submission, \"Main track\"]).set_index([Col.submission, \"Main track\"]).to_dict()['value']"
   ]
  },
  {
   "cell_type": "code",
   "execution_count": 67,
   "metadata": {
    "tags": []
   },
   "outputs": [
    {
     "data": {
      "text/html": [
       "<div>\n",
       "<style scoped>\n",
       "    .dataframe tbody tr th:only-of-type {\n",
       "        vertical-align: middle;\n",
       "    }\n",
       "\n",
       "    .dataframe tbody tr th {\n",
       "        vertical-align: top;\n",
       "    }\n",
       "\n",
       "    .dataframe thead th {\n",
       "        text-align: right;\n",
       "    }\n",
       "</style>\n",
       "<table border=\"1\" class=\"dataframe\">\n",
       "  <thead>\n",
       "    <tr style=\"text-align: right;\">\n",
       "      <th></th>\n",
       "      <th>Submission</th>\n",
       "      <th>CommunityDiversity</th>\n",
       "      <th>ComputerVisioninclGenerativeAICV</th>\n",
       "      <th>DataHandlingEngineering</th>\n",
       "      <th>DjangoWeb</th>\n",
       "      <th>EducationCareerLife</th>\n",
       "      <th>EmbeddedSystemsRobotics</th>\n",
       "      <th>EthicsPrivacy</th>\n",
       "      <th>GenerativeAI</th>\n",
       "      <th>InfrastructureHardwareCloud</th>\n",
       "      <th>MLOpsDevOps</th>\n",
       "      <th>MachineLearningDeepLearningStatistics</th>\n",
       "      <th>NaturalLanguageProcessingAudioinclGenerativeAINLP</th>\n",
       "      <th>Others</th>\n",
       "      <th>ProgrammingSoftwareEngineering</th>\n",
       "      <th>PyDataScientificLibrariesStack</th>\n",
       "      <th>PythonLanguageEcosystem</th>\n",
       "      <th>ResearchSoftwareEngineering</th>\n",
       "      <th>Rust</th>\n",
       "      <th>Security</th>\n",
       "      <th>Sponsor</th>\n",
       "      <th>Testing</th>\n",
       "      <th>VisualisationJupyter</th>\n",
       "    </tr>\n",
       "  </thead>\n",
       "  <tbody>\n",
       "    <tr>\n",
       "      <th>0</th>\n",
       "      <td>3CYZUH</td>\n",
       "      <td>0</td>\n",
       "      <td>0</td>\n",
       "      <td>0</td>\n",
       "      <td>0</td>\n",
       "      <td>0</td>\n",
       "      <td>0</td>\n",
       "      <td>0</td>\n",
       "      <td>0</td>\n",
       "      <td>0</td>\n",
       "      <td>1</td>\n",
       "      <td>0</td>\n",
       "      <td>0</td>\n",
       "      <td>0</td>\n",
       "      <td>0</td>\n",
       "      <td>0</td>\n",
       "      <td>0</td>\n",
       "      <td>0</td>\n",
       "      <td>0</td>\n",
       "      <td>0</td>\n",
       "      <td>0</td>\n",
       "      <td>0</td>\n",
       "      <td>0</td>\n",
       "    </tr>\n",
       "    <tr>\n",
       "      <th>1</th>\n",
       "      <td>3DSU8V</td>\n",
       "      <td>0</td>\n",
       "      <td>0</td>\n",
       "      <td>0</td>\n",
       "      <td>0</td>\n",
       "      <td>0</td>\n",
       "      <td>0</td>\n",
       "      <td>0</td>\n",
       "      <td>0</td>\n",
       "      <td>0</td>\n",
       "      <td>0</td>\n",
       "      <td>0</td>\n",
       "      <td>0</td>\n",
       "      <td>0</td>\n",
       "      <td>0</td>\n",
       "      <td>0</td>\n",
       "      <td>0</td>\n",
       "      <td>0</td>\n",
       "      <td>0</td>\n",
       "      <td>1</td>\n",
       "      <td>0</td>\n",
       "      <td>0</td>\n",
       "      <td>0</td>\n",
       "    </tr>\n",
       "    <tr>\n",
       "      <th>4</th>\n",
       "      <td>3MRJLS</td>\n",
       "      <td>0</td>\n",
       "      <td>0</td>\n",
       "      <td>0</td>\n",
       "      <td>0</td>\n",
       "      <td>0</td>\n",
       "      <td>0</td>\n",
       "      <td>0</td>\n",
       "      <td>0</td>\n",
       "      <td>0</td>\n",
       "      <td>0</td>\n",
       "      <td>0</td>\n",
       "      <td>0</td>\n",
       "      <td>0</td>\n",
       "      <td>0</td>\n",
       "      <td>0</td>\n",
       "      <td>0</td>\n",
       "      <td>0</td>\n",
       "      <td>0</td>\n",
       "      <td>0</td>\n",
       "      <td>1</td>\n",
       "      <td>0</td>\n",
       "      <td>0</td>\n",
       "    </tr>\n",
       "    <tr>\n",
       "      <th>5</th>\n",
       "      <td>3SLWC8</td>\n",
       "      <td>0</td>\n",
       "      <td>0</td>\n",
       "      <td>0</td>\n",
       "      <td>0</td>\n",
       "      <td>0</td>\n",
       "      <td>0</td>\n",
       "      <td>0</td>\n",
       "      <td>0</td>\n",
       "      <td>0</td>\n",
       "      <td>0</td>\n",
       "      <td>0</td>\n",
       "      <td>0</td>\n",
       "      <td>0</td>\n",
       "      <td>0</td>\n",
       "      <td>0</td>\n",
       "      <td>0</td>\n",
       "      <td>0</td>\n",
       "      <td>0</td>\n",
       "      <td>0</td>\n",
       "      <td>1</td>\n",
       "      <td>0</td>\n",
       "      <td>0</td>\n",
       "    </tr>\n",
       "    <tr>\n",
       "      <th>6</th>\n",
       "      <td>3VYSMS</td>\n",
       "      <td>0</td>\n",
       "      <td>0</td>\n",
       "      <td>0</td>\n",
       "      <td>0</td>\n",
       "      <td>0</td>\n",
       "      <td>0</td>\n",
       "      <td>0</td>\n",
       "      <td>0</td>\n",
       "      <td>0</td>\n",
       "      <td>1</td>\n",
       "      <td>0</td>\n",
       "      <td>0</td>\n",
       "      <td>0</td>\n",
       "      <td>0</td>\n",
       "      <td>0</td>\n",
       "      <td>0</td>\n",
       "      <td>0</td>\n",
       "      <td>0</td>\n",
       "      <td>0</td>\n",
       "      <td>0</td>\n",
       "      <td>0</td>\n",
       "      <td>0</td>\n",
       "    </tr>\n",
       "  </tbody>\n",
       "</table>\n",
       "</div>"
      ],
      "text/plain": [
       "  Submission  CommunityDiversity  ComputerVisioninclGenerativeAICV  \\\n",
       "0     3CYZUH                   0                                 0   \n",
       "1     3DSU8V                   0                                 0   \n",
       "4     3MRJLS                   0                                 0   \n",
       "5     3SLWC8                   0                                 0   \n",
       "6     3VYSMS                   0                                 0   \n",
       "\n",
       "   DataHandlingEngineering  DjangoWeb  EducationCareerLife  \\\n",
       "0                        0          0                    0   \n",
       "1                        0          0                    0   \n",
       "4                        0          0                    0   \n",
       "5                        0          0                    0   \n",
       "6                        0          0                    0   \n",
       "\n",
       "   EmbeddedSystemsRobotics  EthicsPrivacy  GenerativeAI  \\\n",
       "0                        0              0             0   \n",
       "1                        0              0             0   \n",
       "4                        0              0             0   \n",
       "5                        0              0             0   \n",
       "6                        0              0             0   \n",
       "\n",
       "   InfrastructureHardwareCloud  MLOpsDevOps  \\\n",
       "0                            0            1   \n",
       "1                            0            0   \n",
       "4                            0            0   \n",
       "5                            0            0   \n",
       "6                            0            1   \n",
       "\n",
       "   MachineLearningDeepLearningStatistics  \\\n",
       "0                                      0   \n",
       "1                                      0   \n",
       "4                                      0   \n",
       "5                                      0   \n",
       "6                                      0   \n",
       "\n",
       "   NaturalLanguageProcessingAudioinclGenerativeAINLP  Others  \\\n",
       "0                                                  0       0   \n",
       "1                                                  0       0   \n",
       "4                                                  0       0   \n",
       "5                                                  0       0   \n",
       "6                                                  0       0   \n",
       "\n",
       "   ProgrammingSoftwareEngineering  PyDataScientificLibrariesStack  \\\n",
       "0                               0                               0   \n",
       "1                               0                               0   \n",
       "4                               0                               0   \n",
       "5                               0                               0   \n",
       "6                               0                               0   \n",
       "\n",
       "   PythonLanguageEcosystem  ResearchSoftwareEngineering  Rust  Security  \\\n",
       "0                        0                            0     0         0   \n",
       "1                        0                            0     0         1   \n",
       "4                        0                            0     0         0   \n",
       "5                        0                            0     0         0   \n",
       "6                        0                            0     0         0   \n",
       "\n",
       "   Sponsor  Testing  VisualisationJupyter  \n",
       "0        0        0                     0  \n",
       "1        0        0                     0  \n",
       "4        1        0                     0  \n",
       "5        1        0                     0  \n",
       "6        0        0                     0  "
      ]
     },
     "execution_count": 67,
     "metadata": {},
     "output_type": "execute_result"
    }
   ],
   "source": [
    "talk2sub_track = pd.concat([talks_df[Col.submission], pd.get_dummies(talks_df[\"Track\"], dtype=int)], axis=1)\n",
    "talk2sub_track.head()"
   ]
  },
  {
   "cell_type": "code",
   "execution_count": 68,
   "metadata": {
    "tags": []
   },
   "outputs": [],
   "source": [
    "talk2sub_track = talk2sub_track.melt(id_vars=Col.submission, value_vars=talk2sub_track.columns, var_name='Track').sort_values([Col.submission, \"Track\"]).set_index([Col.submission, \"Track\"]).to_dict()['value']"
   ]
  },
  {
   "cell_type": "code",
   "execution_count": 69,
   "metadata": {
    "tags": []
   },
   "outputs": [],
   "source": [
    "talk2idx = {v: k for k, v in enumerate(set(talks_df[Col.submission].to_list()))}\n",
    "idx2talk = {v: k for k, v in talk2idx.items()}"
   ]
  },
  {
   "cell_type": "code",
   "execution_count": 70,
   "metadata": {
    "tags": []
   },
   "outputs": [],
   "source": [
    "votes_df = pd.read_csv(\n",
    "    f\"https://pretalx.com/{cfg['event_name']}/schedule/export/public_votes.csv\",\n",
    "    storage_options = {\n",
    "        'Authorization': f'Token {get_cfg().Pretalx.api_token}',\n",
    "        'Content-Type': 'text/plain'\n",
    "    }\n",
    ")\n",
    "\n",
    "votes_df = votes_df.rename(columns={'code': Col.submission, 'score': Col.vote_score})\n",
    "# Remove votes for submissions that wheren't accepted\n",
    "votes_df = votes_df.loc[votes_df[Col.submission].apply(lambda talk: talk in talk2idx.keys())].reset_index(drop=True)\n",
    "# Remove votes equal 1 as this meant \"being indifferent\"\n",
    "votes_df = votes_df.loc[votes_df[Col.vote_score] > 1]\n",
    "# Move a score of 2 to 1, so that \"must see\" counts tripple compared to \"want to see\"\n",
    "votes_df.loc[votes_df[Col.vote_score] == 2, Col.vote_score] = 1"
   ]
  },
  {
   "cell_type": "code",
   "execution_count": 71,
   "metadata": {
    "tags": []
   },
   "outputs": [
    {
     "name": "stdout",
     "output_type": "stream",
     "text": [
      "{'3CYZUH': 30, '3DSU8V': 45, '3MRJLS': 45, '3SLWC8': 30, '3VYSMS': 30, '3WLDMQ': 30, '7CL3KS': 45, '7CXSPN': 45, '7FV8B3': 90, '7KWDA3': 30, '7PDARV': 30, '83QH37': 30, '89BX8V': 30, '8PFFPS': 30, '8S3RC3': 30, '933YXH': 30, '98FQDY': 30, '9CRNU3': 30, '9NFHAS': 45, '9RBNMV': 30, '9Y9DM8': 90, 'ABWHSD': 30, 'ADSXCA': 30, 'AEUZGX': 30, 'AGY8CT': 30, 'AJDYRL': 30, 'AWPYGE': 30, 'AYN837': 30, 'B7GU98': 30, 'B8TUR9': 30, 'BJKSGK': 45, 'BLKYGU': 30, 'BPRXKZ': 45, 'BR3D83': 45, 'C3RVM3': 90, 'CHAEXA': 30, 'CMTKZS': 30, 'CP3TKB': 90, 'CPCNRZ': 30, 'CRNJWQ': 30, 'CTUEJX': 30, 'CUJMCD': 30, 'CVMPVG': 30, 'CYSXFM': 30, 'CZXBEP': 30, 'D8N3JR': 30, 'DEHZHK': 45, 'DHZPR7': 90, 'DNVCEY': 30, 'DPAPUA': 30, 'DQTMJB': 45, 'DSHASE': 30, 'DVABUG': 30, 'ECNDQM': 30, 'EDJ8N7': 30, 'EN3QPQ': 30, 'EPAVRR': 30, 'ER3V7W': 30, 'F7RDPT': 30, 'F9EFXA': 30, 'FGEUJJ': 30, 'FGFFEE': 30, 'FGV9BJ': 30, 'FSK3PE': 30, 'FUX3FR': 30, 'G3AT7E': 30, 'GJ9MVT': 45, 'GRWYQB': 45, 'GUEAHT': 30, 'GUKTNX': 30, 'GURXPK': 30, 'HGJ3VQ': 30, 'HKYQDB': 30, 'HPGEKH': 30, 'HQWAYP': 45, 'HSFR7A': 45, 'HVTSDP': 30, 'HYE8EX': 30, 'J8FLDN': 30, 'JA9NFW': 45, 'JABVHK': 30, 'JCXTLR': 30, 'JGHXK7': 30, 'JH97CL': 30, 'JM3G8S': 30, 'JUAF3S': 45, 'JUQ9JJ': 30, 'K9ACTV': 30, 'KCSSJ7': 30, 'KCV9RS': 30, 'KTJY9V': 30, 'KZKT9W': 30, 'LA8KHV': 30, 'LBKU3T': 90, 'LNW3KE': 45, 'LQA9EJ': 30, 'LRL7MS': 30, 'LRRVGG': 30, 'LRUKZQ': 30, 'M98YBR': 30, 'ME7XPJ': 30, 'MJD7TG': 30, 'MNTFRG': 30, 'MRHNCV': 45, 'MSUCAS': 30, 'N9CAUM': 90, 'NBFH7G': 30, 'NF8UPF': 30, 'NNGWGC': 30, 'NPMNCE': 30, 'P8GUWG': 30, 'P9GRZU': 45, 'P9VKRV': 30, 'PDBAXQ': 90, 'PKZD8L': 90, 'PLMJZ8': 30, 'PNQB7C': 30, 'PQKTUY': 30, 'PRRPQ3': 45, 'QGLS8H': 30, 'QJYQ7X': 30, 'QN3BTA': 30, 'QXSQKL': 45, 'RAHBEP': 30, 'RLTZTC': 30, 'RQ8JBM': 30, 'S8MUBF': 45, 'SDBUYG': 30, 'SFDRTR': 30, 'SVLRGG': 90, 'SXRVNU': 30, 'SZFRRA': 30, 'TFLBTW': 45, 'TQLGA8': 30, 'TQN98D': 30, 'TRUUVL': 30, 'TXKLWR': 30, 'TYXMZC': 30, 'U9KHNA': 30, 'UCG9AS': 45, 'UDDTBS': 45, 'UDSJME': 45, 'UE9KV9': 30, 'UGTB7A': 30, 'UH7FXA': 90, 'UVPALT': 30, 'UXTCZC': 30, 'VBW3EK': 90, 'VDG9YG': 30, 'VFE78U': 45, 'VJR39N': 30, 'VKYDBD': 30, 'VYL7AU': 30, 'WANMZT': 30, 'WCDPLP': 30, 'WELCVS': 90, 'WJPEQH': 90, 'WLZSEZ': 45, 'WMBDJ8': 45, 'WUH93P': 30, 'XBLXGG': 30, 'XLZQFA': 45, 'XMDYKN': 30, 'XMETSE': 30, 'XNVZXB': 30, 'XRHEYZ': 30, 'XSRJAY': 45, 'YCAUMC': 30, 'YLKDJK': 30, 'ZACM3E': 30, 'ZHT9HW': 30, 'ZKNTGN': 45, 'ZMKJAY': 30, 'ZT3MGL': 30, 'ZUQM7Q': 30}\n"
     ]
    }
   ],
   "source": [
    "talk_lengths = {s:d for _, (s, d) in talks_df[[Col.submission, Col.duration]].iterrows()}\n",
    "print(talk_lengths)\n",
    "# NO CONSECUTIVE TUTORIALS THIS YEAR\n",
    "# following tutorials build sequences and thus need to be in the same session and after one another\n",
    "# consecutive_tutorials = [(\"VFZ3VT\", \"DEQM3J\"), (\"KUKU9Z\", \"YWTRSG\")]\n",
    "sponsored_talks = [t.code for t in talks if \"Sponsor\" in t.submission_type.en]"
   ]
  },
  {
   "cell_type": "code",
   "execution_count": 72,
   "metadata": {
    "tags": []
   },
   "outputs": [
    {
     "name": "stdout",
     "output_type": "stream",
     "text": [
      "{'3CYZUH': '0.243', '3DSU8V': '0.343', '3VYSMS': '0.3', '3WLDMQ': '0.157', '7CL3KS': '0.314', '7CXSPN': '0.471', '7FV8B3': '0.2', '7PDARV': '0.2', '83QH37': '0.657', '89BX8V': '0.143', '8PFFPS': '0.971', '8S3RC3': '0.0857', '933YXH': '0.186', '98FQDY': '0.129', '9CRNU3': '0.343', '9NFHAS': '0.0429', '9RBNMV': '0.0857', '9Y9DM8': '0.171', 'ABWHSD': '0.0857', 'ADSXCA': '0.643', 'AEUZGX': '0.186', 'AGY8CT': '0.457', 'AJDYRL': '0.671', 'AWPYGE': '0.429', 'AYN837': '0.0429', 'B7GU98': '0.329', 'B8TUR9': '0.157', 'BJKSGK': '0.0857', 'BLKYGU': '0.271', 'BR3D83': '0.143', 'C3RVM3': '0.414', 'CHAEXA': '0.686', 'CMTKZS': '0.1', 'CP3TKB': '0.329', 'CPCNRZ': '0.729', 'CRNJWQ': '0.329', 'CTUEJX': '0.129', 'CUJMCD': '0.429', 'CVMPVG': '0.186', 'CZXBEP': '0.143', 'DEHZHK': '0.371', 'DNVCEY': '0.357', 'DPAPUA': '0.271', 'DQTMJB': '0.214', 'DSHASE': '0.414', 'ECNDQM': '0.457', 'EDJ8N7': '0.529', 'EN3QPQ': '0.214', 'EPAVRR': '0.271', 'ER3V7W': '0.271', 'F7RDPT': '0.0714', 'F9EFXA': '0.2', 'FGEUJJ': '0.286', 'FGFFEE': '0.343', 'FSK3PE': '0.514', 'FUX3FR': '0.743', 'G3AT7E': '0.486', 'GJ9MVT': '0.443', 'GRWYQB': '0.0', 'GUEAHT': '0.529', 'GUKTNX': '0.429', 'GURXPK': '0.586', 'HKYQDB': '0.0857', 'HPGEKH': '0.186', 'HQWAYP': '0.557', 'HSFR7A': '0.357', 'HVTSDP': '0.486', 'HYE8EX': '0.271', 'J8FLDN': '0.171', 'JA9NFW': '0.829', 'JABVHK': '0.371', 'JH97CL': '0.186', 'JM3G8S': '0.414', 'JUAF3S': '0.514', 'JUQ9JJ': '0.2', 'K9ACTV': '0.557', 'KCSSJ7': '0.114', 'KCV9RS': '0.229', 'KTJY9V': '0.186', 'KZKT9W': '0.486', 'LBKU3T': '0.471', 'LNW3KE': '0.286', 'LRL7MS': '0.114', 'LRRVGG': '0.429', 'LRUKZQ': '0.214', 'M98YBR': '0.171', 'ME7XPJ': '0.271', 'MJD7TG': '0.271', 'MNTFRG': '0.343', 'MRHNCV': '0.9', 'MSUCAS': '0.286', 'N9CAUM': '0.2', 'NBFH7G': '0.129', 'NF8UPF': '0.314', 'NNGWGC': '0.757', 'NPMNCE': '0.171', 'P8GUWG': '0.314', 'P9GRZU': '0.129', 'P9VKRV': '0.5', 'PDBAXQ': '0.743', 'PKZD8L': '0.114', 'PLMJZ8': '0.129', 'PNQB7C': '0.343', 'PRRPQ3': '0.343', 'QGLS8H': '0.429', 'QN3BTA': '0.614', 'QXSQKL': '0.429', 'RAHBEP': '0.571', 'RLTZTC': '0.357', 'RQ8JBM': '0.343', 'S8MUBF': '0.5', 'SFDRTR': '0.229', 'SVLRGG': '0.157', 'SXRVNU': '0.657', 'SZFRRA': '0.543', 'TFLBTW': '0.157', 'TQLGA8': '0.371', 'TQN98D': '0.543', 'TRUUVL': '0.2', 'TXKLWR': '0.757', 'TYXMZC': '0.443', 'U9KHNA': '0.1', 'UCG9AS': '0.0714', 'UDDTBS': '0.3', 'UDSJME': '0.429', 'UGTB7A': '0.157', 'UH7FXA': '0.386', 'UVPALT': '0.186', 'UXTCZC': '0.371', 'VBW3EK': '0.257', 'VDG9YG': '0.286', 'VFE78U': '1.0', 'VJR39N': '0.257', 'VKYDBD': '0.114', 'VYL7AU': '0.271', 'WCDPLP': '0.386', 'WELCVS': '0.714', 'WJPEQH': '0.529', 'WLZSEZ': '0.243', 'WMBDJ8': '0.243', 'WUH93P': '0.386', 'XLZQFA': '0.443', 'XRHEYZ': '0.457', 'YCAUMC': '0.0857', 'YLKDJK': '0.257', 'ZACM3E': '0.514', 'ZHT9HW': '0.371', 'ZKNTGN': '0.329', 'ZMKJAY': '0.4', 'ZT3MGL': '0.229', 'CYSXFM': '0.314', 'BPRXKZ': '0.314', 'DHZPR7': '0.314', 'XBLXGG': '0.314', 'SDBUYG': '0.314', 'XMDYKN': '0.314', '3MRJLS': '0.314', 'UE9KV9': '0.314', 'QJYQ7X': '0.314', 'LQA9EJ': '0.314', 'LA8KHV': '0.314', 'XNVZXB': '0.314', 'XSRJAY': '0.314', 'PQKTUY': '0.314', 'XMETSE': '0.314', 'JGHXK7': '0.314', 'WANMZT': '0.314', '3SLWC8': '0.314', 'HGJ3VQ': '0.314', 'ZUQM7Q': '0.314', 'JCXTLR': '0.314', 'D8N3JR': '0.314', 'DVABUG': '0.314', 'FGV9BJ': '0.314', '7KWDA3': '0.314'}\n"
     ]
    }
   ],
   "source": [
    "pops_dict = votes_df.groupby(Col.submission)['Vote Score'].sum().to_dict()\n",
    "# give sponsored talks the median popularity\n",
    "for talk in set(talks_df[Col.submission].to_list()) - set(pops_dict.keys()):\n",
    "    pops_dict[talk] = np.median(list(pops_dict.values()))\n",
    "# normalize the popularities\n",
    "min_pop = np.min(list(pops_dict.values()))\n",
    "max_pop = np.max(list(pops_dict.values()))\n",
    "pops_dict = {k:(v - min_pop) / (max_pop - min_pop) for k, v in pops_dict.items()}\n",
    "print({k: f\"{v:.3}\" for k, v in pops_dict.items()})"
   ]
  },
  {
   "cell_type": "code",
   "execution_count": 73,
   "metadata": {
    "tags": []
   },
   "outputs": [
    {
     "name": "stdout",
     "output_type": "stream",
     "text": [
      "{'Spectrum': 1072, 'Titanium3': 300, 'Helium3': 284, 'Platinum3': 263, 'Europium2': 161, 'Hassium': 96, 'Palladium': 63, 'Ferrum': 269, 'Dynamicum': 150}\n",
      "{'Spectrum': np.float64(1.0), 'Titanium3': np.float64(0.2348860257680872), 'Helium3': np.float64(0.21902874132804756), 'Platinum3': np.float64(0.19821605550049554), 'Europium2': np.float64(0.09712586719524281), 'Hassium': np.float64(0.03270564915758176), 'Palladium': np.float64(0.0), 'Ferrum': np.float64(0.20416253716551042), 'Dynamicum': np.float64(0.08622398414271557)}\n"
     ]
    }
   ],
   "source": [
    "room_caps_dict = {room.name.en.replace('-', ''):room.capacity for room in rooms}\n",
    "print(room_caps_dict)\n",
    "# normalize room_caps like popularity by dividing by min\n",
    "min_room_cap = np.min(list(room_caps_dict.values()))\n",
    "max_room_cap = np.max(list(room_caps_dict.values()))\n",
    "room_caps_dict = {k: (v - min_room_cap) / (max_room_cap - min_room_cap) for k, v in room_caps_dict.items()}\n",
    "tutorial_rooms =  {Rooms.FERRUM, Rooms.DYNAMICUM}\n",
    "talk_rooms = set(room_caps_dict.keys()) - tutorial_rooms\n",
    "print(room_caps_dict)"
   ]
  },
  {
   "cell_type": "code",
   "execution_count": 74,
   "metadata": {
    "tags": []
   },
   "outputs": [
    {
     "data": {
      "text/plain": [
       "(np.float64(0.0), np.float64(1.0))"
      ]
     },
     "execution_count": 74,
     "metadata": {},
     "output_type": "execute_result"
    }
   ],
   "source": [
    "# generate penalty for a talk given its popularity in a certain room\n",
    "talk_room_penalty = {(talk, room): (pop - cap)**2 for (talk, pop), (room, cap) in product(pops_dict.items(), room_caps_dict.items())} \n",
    "min(talk_room_penalty.values()), max(talk_room_penalty.values())"
   ]
  },
  {
   "cell_type": "code",
   "execution_count": 75,
   "metadata": {
    "tags": []
   },
   "outputs": [
    {
     "name": "stderr",
     "output_type": "stream",
     "text": [
      "/var/folders/ts/4k10rtg93lb9rpbs7m08v8480000gn/T/ipykernel_20348/2592006779.py:11: DeprecationWarning: DataFrameGroupBy.apply operated on the grouping columns. This behavior is deprecated, and in a future version of pandas the grouping columns will be excluded from the operation. Either pass `include_groups=False` to exclude the groupings or explicitly select the grouping columns after groupby to silence this warning.\n",
      "  X = np.vstack(votes_df.groupby(\"voter\").apply(user_interaction))\n"
     ]
    }
   ],
   "source": [
    "# generate cooccurrence penalty for all talks scheduled at the same time-slot & room using Gram-matrix\n",
    "n_users = votes_df['voter'].nunique()\n",
    "n_talks = len(talks_df)\n",
    "\n",
    "def user_interaction(user_votes):\n",
    "    x = np.zeros(n_talks)\n",
    "    for _, (sub, vote_score) in user_votes[[Col.submission, Col.vote_score]].iterrows():\n",
    "        x[talk2idx[sub]] = vote_score\n",
    "    return x\n",
    "\n",
    "X = np.vstack(votes_df.groupby(\"voter\").apply(user_interaction))\n",
    "assert X.shape == (n_users, n_talks)\n",
    "\n",
    "cooccurance_penalty = X.T @ X\n",
    "\n",
    "# set diagonal to 0 since a talk is always parallel to itself.\n",
    "np.fill_diagonal(cooccurance_penalty, 0.)\n",
    "\n",
    "# normalize with max as sponsored talks will get the value 1.\n",
    "cooccurance_penalty /= cooccurance_penalty.max() "
   ]
  },
  {
   "cell_type": "code",
   "execution_count": 76,
   "metadata": {
    "tags": []
   },
   "outputs": [
    {
     "data": {
      "image/png": "[encoded data removed]",
      "text/plain": [
       "<Figure size 600x600 with 1 Axes>"
      ]
     },
     "metadata": {
      "image/png": {
       "height": 521,
       "width": 523
      }
     },
     "output_type": "display_data"
    }
   ],
   "source": [
    "# for sponsored talks set a high cooccurence penalty\n",
    "for t1, t2 in combinations(sponsored_talks, 2):\n",
    "   cooccurance_penalty[talk2idx[t1], talk2idx[t2]] = cooccurance_penalty[talk2idx[t2], talk2idx[t1]] = 1.\n",
    "    \n",
    "# set diagonal to 0 since a talk is always parallel to itself.\n",
    "np.fill_diagonal(cooccurance_penalty, 0.)\n",
    "\n",
    "talk_cooccurence_penalty = {(t1, t2): cooccurance_penalty[talk2idx[t1], talk2idx[t2]]**2 for t1, t2 in product(talk2idx.keys(), talk2idx.keys())}\n",
    "plt.matshow(cooccurance_penalty);"
   ]
  },
  {
   "cell_type": "markdown",
   "metadata": {},
   "source": [
    "## Time-Table Scheduling"
   ]
  },
  {
   "cell_type": "markdown",
   "metadata": {},
   "source": [
    "We consider following constraints:\n",
    "* each talk must be assigned once\n",
    "* each room/timeslot combination can only be occupied by one talk at most\n",
    "* the length of the timeslot must match the length of the talk\n",
    "* some tutorials have part 1 & 2,thus need to be consecutive\n",
    "\n",
    "We optimize an objective which considers:\n",
    "1. the preferences for day and time of the speakers are considered (if they provided some)\n",
    "2. the more popular a talk is, the more capacity the assigned room should have\n",
    "3. if many people are interested in seeing two talks (data from the votes) these talks should rather not be scheduled in parallel (sponsored talks should never be in parallel)\n",
    "4. if possible have in the same session (block of talks) the same main track, e.g. PyData, \n",
    "5. or even the same sub track, e.g.PyData: Data Handling, assuming that people have certain preferences regarding tracks.\n",
    "\n",
    "The importance is 1 > 2 > 3 > 4 > 5"
   ]
  },
  {
   "cell_type": "code",
   "execution_count": 77,
   "metadata": {
    "tags": []
   },
   "outputs": [],
   "source": [
    "import pyomo.environ as pyo\n",
    "import pyomo.gdp as pyogdp\n",
    "from pyomo.contrib.appsi.solvers import Highs\n",
    "from tqdm.auto import tqdm"
   ]
  },
  {
   "cell_type": "code",
   "execution_count": 78,
   "metadata": {
    "tags": []
   },
   "outputs": [],
   "source": [
    "model = pyo.ConcreteModel(name=\"PyConDE/PyData Schedule 2025\")\n",
    "\n",
    "##############\n",
    "# Index Sets #\n",
    "##############\n",
    "\n",
    "model.sTalks = pyo.Set(initialize=talks_df[Col.submission].values, ordered=True)\n",
    "model.sDays = pyo.Set(initialize=[\"Wednesday\", \"Thursday\", \"Friday\"], ordered=True)\n",
    "model.sSessions = pyo.Set(initialize=[\"Morning\", \"Afternoon1\", \"Afternoon2\"], ordered=True)\n",
    "model.sSlots = pyo.Set(initialize=[\"First\", \"Second\", \"Third\"], ordered=True)\n",
    "model.sRooms = pyo.Set(initialize=room_caps_dict.keys(), ordered=True)\n",
    "model.sMainTracks = pyo.Set(initialize=main_tracks, ordered=True)\n",
    "model.sSubTracks = pyo.Set(initialize=sub_tracks, ordered=True)\n",
    "\n",
    "##############\n",
    "# Parameters #\n",
    "##############\n",
    "\n",
    "## Set here the preferences of the speakers/talks for the slots\n",
    "def init_slot_preference(model, t, d, s, l, r):\n",
    "    if t in {\"S8MUBF\"} and d == \"Wednesday\" and s == \"Morning\":\n",
    "        return 1\n",
    "    elif t in {\"KCV9RS\"} and d == \"Thursday\" and s == \"Morning\": \n",
    "        return 1\n",
    "    elif t in {\"ZACM3E\"} and not (d == \"Friday\" and s in {\"Afternoon1\", \"Afternoon2\"}):\n",
    "        return 1\n",
    "    else:\n",
    "        return 0\n",
    "\n",
    "model.pPreferences = pyo.Param(model.sTalks, model.sDays, model.sSessions, model.sSlots, model.sRooms, initialize=init_slot_preference, mutable=False)\n",
    "model.pTalkRoomPenalty = pyo.Param(model.sTalks, model.sRooms, initialize=talk_room_penalty, mutable=False)\n",
    "model.pCoOccurencesPenalty = pyo.Param(model.sTalks, model.sTalks, initialize=talk_cooccurence_penalty, mutable=False)\n",
    "model.pTalk2MainTrack = pyo.Param(model.sTalks, model.sMainTracks, initialize=talk2main_track, mutable=False)\n",
    "model.pTalk2SubTrack = pyo.Param(model.sTalks, model.sSubTracks, initialize=talk2sub_track, mutable=False)\n",
    "\n",
    "def init_slot_length(model, d, s, l, r):\n",
    "    if d == \"Wednesday\":\n",
    "        if s == \"Morning\":\n",
    "            if r in talk_rooms:\n",
    "                if l == \"First\":\n",
    "                    return 30\n",
    "                elif l == \"Second\":\n",
    "                    return 30 if r in {Rooms.HASSIUM, Rooms.PALLADIUM} else 45\n",
    "                else:\n",
    "                    return 0  # no third slot\n",
    "            else:\n",
    "                return 90 if l == \"First\" else 0\n",
    "        elif s == \"Afternoon1\":\n",
    "            if r in talk_rooms:\n",
    "                if l == \"First\":\n",
    "                    return 30\n",
    "                elif l == \"Second\":\n",
    "                    return 30 if r in {Rooms.HASSIUM, Rooms.PALLADIUM} else 45\n",
    "                else:  # Third\n",
    "                    return 30\n",
    "            else:\n",
    "                if l == \"First\":\n",
    "                    return 90\n",
    "                elif l == \"Second\":\n",
    "                    return 0\n",
    "                else:  # Third\n",
    "                    return 30\n",
    "        else: # \"Afternoon 2\":\n",
    "            if l == \"First\":\n",
    "                return 30\n",
    "            elif l == \"Second\":\n",
    "                return 30\n",
    "            else:\n",
    "                return 0 # no Third slot\n",
    "    elif d == \"Thursday\":\n",
    "        if s == \"Morning\":\n",
    "            if r in talk_rooms:\n",
    "                if l == \"First\":\n",
    "                    return 30\n",
    "                elif l == \"Second\":\n",
    "                    return 30\n",
    "                else:\n",
    "                    return 30 if r in {Rooms.EUROPIUM2, Rooms.HASSIUM, Rooms.PALLADIUM} else 45\n",
    "            else:\n",
    "                return 90 if l == \"First\" else 0\n",
    "        elif s == \"Afternoon1\":\n",
    "            if r == Rooms.SPECTRUM:\n",
    "                return 0  # panel in the Spectrum\n",
    "            elif r in talk_rooms:\n",
    "                if l == \"First\":\n",
    "                    return 30\n",
    "                elif l == \"Second\":\n",
    "                    return 45\n",
    "                else:\n",
    "                    return 0 # no Third slot\n",
    "            else:\n",
    "                return 90 if l == \"First\" else 0\n",
    "        else: # Afternoon 2\n",
    "            if r in talk_rooms:\n",
    "                if l == \"First\":\n",
    "                    return 30\n",
    "                elif l == \"Second\":\n",
    "                    return 45\n",
    "                else:\n",
    "                    return 0 # no Third slot\n",
    "            else:\n",
    "                return 90 if l == \"First\" else 0\n",
    "    else: # Friday\n",
    "        if s == \"Morning\":\n",
    "            if r in talk_rooms:\n",
    "                if l == \"First\":\n",
    "                    return 30\n",
    "                elif l == \"Second\":\n",
    "                    return 30\n",
    "                else:\n",
    "                    return 30 if r in {Rooms.HASSIUM, Rooms.PALLADIUM} else 45\n",
    "            else:\n",
    "                return 90 if l == \"First\" else 0\n",
    "        elif s == \"Afternoon1\":\n",
    "            if r in talk_rooms:\n",
    "                if l in {\"First\", \"Second\"}:\n",
    "                    return 30\n",
    "                else:\n",
    "                    return 0  # no Third slot\n",
    "            else:\n",
    "                return 90 if l == \"First\" else 0\n",
    "        else: # Afternoon 2\n",
    "            if l in {\"First\", \"Second\"}:\n",
    "                return 30\n",
    "            else: # Third slot\n",
    "                return 30 if r in {Rooms.TITANIUM3, Rooms.HELIUM3, Rooms.PLATINUM3, Rooms.EUROPIUM2, Rooms.HASSIUM, Rooms.PALLADIUM} else 0\n",
    "    raise RuntimeError(f\"Unhandled case {d}, {s}, {l}, {r}\")\n",
    "\n",
    "model.pSlotLengths = pyo.Param(model.sDays, model.sSessions, model.sSlots, model.sRooms, initialize=init_slot_length, mutable=False)\n",
    "model.pTalkLengths = pyo.Param(model.sTalks, initialize=talk_lengths, mutable=False)\n",
    "\n",
    "#############\n",
    "# Variables #\n",
    "#############\n",
    "\n",
    "## Auxiliary variables\n",
    "# indicator if talk t is in room r\n",
    "model.vbTalkRoom = pyo.Var(model.sTalks, model.sRooms, domain=pyo.Binary) \n",
    "# indicator if talk t is in day/session/slot combination. Used later to calculate cooccurences.\n",
    "model.vbParallelTalk = pyo.Var(model.sTalks, model.sDays, model.sSessions, model.sSlots, domain=pyo.Binary) \n",
    "# indicator if two talks are in the same day/session/slot combination, thus are running in parallel and only one can be attended to.\n",
    "model.vbCoOccurences = pyo.Var(model.sTalks, model.sTalks, model.sDays, model.sSessions, model.sSlots, domain=pyo.Binary) \n",
    "# indicator if two talks are in the same day\n",
    "model.vbSameDay = pyo.Var(model.sTalks, model.sTalks, model.sDays, domain=pyo.Binary)\n",
    "# indicator if main track occures in day/session/room combination, i.e. occurs in the current session of a room\n",
    "model.vbMainTrackSessionRoom = pyo.Var(model.sDays, model.sSessions, model.sRooms, model.sMainTracks, domain=pyo.Binary) \n",
    "# indicator if sub track occures in day/session/room combination, i.e. occurs in the current session of a room\n",
    "model.vbSubTrackSessionRoom = pyo.Var(model.sDays, model.sSessions, model.sRooms, model.sSubTracks, domain=pyo.Binary)\n",
    "# indicator if talk t is in day/session/room combination, i.e. talk is in a session of a room.\n",
    "model.vbTalkSession = pyo.Var(model.sTalks, model.sDays, model.sSessions, model.sRooms, domain=pyo.Binary)\n",
    "\n",
    "## Decision variable\n",
    "model.vbSchedule = pyo.Var(model.sTalks, model.sDays, model.sSessions, model.sSlots, model.sRooms, domain=pyo.Binary)\n",
    "\n",
    "###############\n",
    "# Constraints #\n",
    "###############\n",
    "\n",
    "# Make sure talk lengths fits slot lengths\n",
    "model.ctTalkSlotFit = pyo.ConstraintList()\n",
    "for t in model.sTalks:\n",
    "    model.ctTalkSlotFit.add(sum(model.vbSchedule[t, d, s, l, r] * model.pSlotLengths[d, s, l, r] for d, s, l, r in product(model.sDays, model.sSessions, model.sSlots, model.sRooms)) == model.pTalkLengths[t])\n",
    "    \n",
    "# Make sure each room/timeslot-combination is occupied only with one talk at most\n",
    "model.ctTimeRoomOccup = pyo.ConstraintList()\n",
    "for d, s, l, r in product(model.sDays, model.sSessions, model.sSlots,  model.sRooms):\n",
    "    model.ctTimeRoomOccup.add(sum(model.vbSchedule[:, d, s, l, r]) <= 1)\n",
    "    \n",
    "# Set vbParallelTalk auxiliary variable\n",
    "model.ctParallelTalk = pyo.ConstraintList()\n",
    "for t, d, s, l in product(model.sTalks, model.sDays, model.sSessions, model.sSlots):\n",
    "    model.ctParallelTalk.add(model.vbParallelTalk[t, d, s, l] == sum(model.vbSchedule[t, d, s, l, :]))\n",
    "                               \n",
    "# Make sure each talk is assigned once\n",
    "model.ctTalkAssigned = pyo.ConstraintList()\n",
    "for t in model.sTalks:\n",
    "    model.ctTalkAssigned.add(sum(model.vbSchedule[t, :, :, :, :]) == 1)\n",
    "\n",
    "# Set vbCoOccurences auxiliary variable\n",
    "model.ctCoOccurences = pyo.ConstraintList()\n",
    "for d, s, l in product(model.sDays, model.sSessions, model.sSlots):\n",
    "    for t1, t2 in combinations(model.sTalks, 2):\n",
    "        model.ctCoOccurences.add(model.vbCoOccurences[t1, t2, d, s, l] + 1 >= model.vbParallelTalk[t1, d, s, l] + model.vbParallelTalk[t2, d, s, l])\n",
    "\n",
    "# Set vbSameDay auxiliary variable\n",
    "model.ctSameDay = pyo.ConstraintList()\n",
    "for d in model.sDays:\n",
    "    for t1, t2 in combinations(model.sTalks, 2):\n",
    "        model.ctSameDay.add(2*model.vbSameDay[t1, t2, d] <= sum(model.vbParallelTalk[t1, d, s, l] + model.vbParallelTalk[t2, d, s, l] for s, l in product(model.sSessions, model.sSlots)))\n",
    "\n",
    "# Set vbTalkRoom auxiliary variable\n",
    "model.ctTalkRoom = pyo.ConstraintList()\n",
    "for t, r in product(model.sTalks, model.sRooms):\n",
    "    model.ctTalkRoom.add(sum(model.vbSchedule[t, ..., r]) == model.vbTalkRoom[t, r])\n",
    "\n",
    "# Enforce that some talks need to be in consecutive order\n",
    "# NOT NEEDED THIS YEAR!\n",
    "# def ct_consecutive_slots(model, t1, t2):\n",
    "#     possibilities = [((\"Tuesday\", \"Afternoon1\", \"First\", r), (\"Tuesday\", \"Afternoon2\", \"First\", r)) for r in tutorial_rooms]\n",
    "#     possibilities.extend([((\"Wednesday\", \"Morning1\", \"First\", r), (\"Wednesday\", \"Morning2\", \"First\", r)) for r in tutorial_rooms])\n",
    "#     return [[model.vbSchedule[t1, d1, s1, l1, r1] + model.vbSchedule[t2, d2, s2, l2, r2] == 2] for (d1, s1, l1, r1), (d2, s2, l2, r2) in possibilities]\n",
    "\n",
    "# Set disjunction constraint for consecutive tutorials\n",
    "# for i, (t1, t2) in enumerate(consecutive_tutorials):\n",
    "#     # there seems to be no List object for disjunctions, thus we use setattr\n",
    "#     setattr(model, f'disjTutorial{i}', pyogdp.Disjunction(expr=ct_consecutive_slots(model, t1, t2)))\n",
    "    \n",
    "# Set vbTalkSession auxiliary variable\n",
    "model.ctTalkSession = pyo.ConstraintList()\n",
    "for t, d, s, r in product(model.sTalks, model.sDays, model.sSessions, model.sRooms):\n",
    "    model.ctTalkSession.add(model.vbTalkSession[t, d, s, r] == sum(model.vbSchedule[t, d, s, :, r]))\n",
    "    \n",
    "# Set vbMainTrackSessionRoom auxiliary variable\n",
    "model.ctMainTrackSessionRoom = pyo.ConstraintList()\n",
    "for d, s, r, mt in product(model.sDays, model.sSessions, model.sRooms, model.sMainTracks):\n",
    "    model.ctMainTrackSessionRoom.add(model.vbMainTrackSessionRoom[d, s, r, mt]*len(model.sSlots) >= sum(model.vbTalkSession[t, d, s, r]*model.pTalk2MainTrack[t, mt] for t in model.sTalks))\n",
    "    \n",
    "# Set vbSubTrackSessionRoom auxiliary variable\n",
    "model.ctSubTrackSessionRoom = pyo.ConstraintList()\n",
    "for d, s, r, st in product(model.sDays, model.sSessions, model.sRooms, model.sSubTracks):\n",
    "    model.ctSubTrackSessionRoom.add(model.vbSubTrackSessionRoom[d, s, r, st]*len(model.sSlots) >= sum(model.vbTalkSession[t, d, s, r]*model.pTalk2SubTrack[t, st] for t in model.sTalks))\n",
    "    \n",
    "#############\n",
    "# Objective #\n",
    "############# \n",
    "\n",
    "def objective(model):\n",
    "    preference_term = pyo.dot_product(model.pPreferences, model.vbSchedule)\n",
    "    pop_roomcap_term = pyo.dot_product(model.pTalkRoomPenalty, model.vbTalkRoom)\n",
    "    cooccurance_terms = []\n",
    "    for d, s, l in product(model.sDays, model.sSessions, model.sSlots):\n",
    "        cooccurance_terms.append(sum(model.vbCoOccurences[t1, t2, d, s, l] * model.pCoOccurencesPenalty[t1, t2] for t1, t2 in combinations(model.sTalks, 2)))\n",
    "        \n",
    "    cooccurance_term = sum(cooccurance_terms) + sum(model.vbCoOccurences[...]) # last term forces vbCoOccurences to be 0 if possible\n",
    "    main_tack_term = sum(model.vbMainTrackSessionRoom[...])  # the higher this number the more different tracks we have in a session. We want the opposite.\n",
    "    sub_track_term = sum(model.vbSubTrackSessionRoom[...])  # see above\n",
    "    \n",
    "    return 100_000_000*preference_term - 1_000_000*pop_roomcap_term - 10_000*cooccurance_term - 100*main_tack_term - sub_track_term   \n",
    "\n",
    "model.obj = pyo.Objective(sense=pyo.maximize, rule=objective)\n",
    "pyo.TransformationFactory(\"gdp.bigm\").apply_to(model)\n"
   ]
  },
  {
   "cell_type": "code",
   "execution_count": 79,
   "metadata": {
    "tags": []
   },
   "outputs": [
    {
     "name": "stdout",
     "output_type": "stream",
     "text": [
      "Slots:\n",
      "30    129\n",
      "0      68\n",
      "45     32\n",
      "90     14\n",
      "Name: count, dtype: int64\n",
      "\n",
      "Talks:\n",
      "Duration\n",
      "30    129\n",
      "45     32\n",
      "90     14\n",
      "Name: count, dtype: int64\n"
     ]
    }
   ],
   "source": [
    "# consistency check: amount of lengths of talks/timeslots must match, sponsored talks are considered normal talks\n",
    "print(\"Slots:\\n\", pd.Series(model.pSlotLengths.values()).value_counts(), sep='')\n",
    "print(\"\\nTalks:\\n\", talks_df[Col.duration].value_counts(), sep='')"
   ]
  },
  {
   "cell_type": "code",
   "execution_count": 80,
   "metadata": {
    "tags": []
   },
   "outputs": [
    {
     "data": {
      "text/plain": [
       "('pyconde_pydata_schedule_20250222.mps', 14262548560)"
      ]
     },
     "execution_count": 80,
     "metadata": {},
     "output_type": "execute_result"
    }
   ],
   "source": [
    "# Optionally write out the model file to solve it on the CLI directly, which provides more info while running\n",
    "model.write(filename = \"pyconde_pydata_schedule_20250222.mps\", io_options = {\"symbolic_solver_labels\": True})"
   ]
  },
  {
   "cell_type": "code",
   "execution_count": null,
   "metadata": {
    "tags": []
   },
   "outputs": [],
   "source": [
    "# solve it here directly\n",
    "# solver = Highs()\n",
    "# solver.config.time_limit = 600. # 10 minutes, set to a number high enough to reach a feasible solution\n",
    "# solver.config.load_solution = False\n",
    "# sol = solver.solve(model)\n",
    "# solver.load_vars() # only works if solution is valid/feasible"
   ]
  },
  {
   "cell_type": "code",
   "execution_count": null,
   "metadata": {
    "tags": []
   },
   "outputs": [],
   "source": [
    "# or better in the CLI \n",
    "#!highs pyconde_pydata_schedule_20240214.mps --solution_file 20240214.sol --time_limit 36000 # 10 hours!"
   ]
  },
  {
   "cell_type": "markdown",
   "metadata": {},
   "source": [
    "## BE AWARE that this most likely runs more than 20 minutes to find a first feasible solutions and needs more than 12 hours to have a really nice solution."
   ]
  },
  {
   "cell_type": "code",
   "execution_count": null,
   "metadata": {
    "tags": []
   },
   "outputs": [],
   "source": [
    "set_solution_from_file(model, \"20240214.sol\")"
   ]
  },
  {
   "cell_type": "markdown",
   "metadata": {},
   "source": [
    "## Upload to GSheet"
   ]
  },
  {
   "cell_type": "code",
   "execution_count": null,
   "metadata": {},
   "outputs": [],
   "source": [
    "schedule_df = pd.DataFrame([idx for idx, val in model.vbSchedule.items() if val() >= 0.5], columns=[Col.submission, \"Day\", \"Session\", \"Slot\", \"Room\"])\n",
    "schedule_df = schedule_df.loc[:, [\"Day\", \"Session\", \"Slot\", \"Room\", Col.submission]]\n",
    "schedule_df[\"Day\"] = pd.Categorical(schedule_df[\"Day\"], model.sDays.data())\n",
    "schedule_df[\"Session\"] = pd.Categorical(schedule_df[\"Session\"], model.sSessions.data())\n",
    "schedule_df[\"Slot\"] = pd.Categorical(schedule_df[\"Slot\"], model.sSlots.data())\n",
    "schedule_df[\"Room\"] = pd.Categorical(schedule_df[\"Room\"], model.sRooms.data())\n",
    "schedule_df.sort_values(list(schedule_df.columns[:-1]), inplace=True)\n",
    "schedule_df.reset_index(drop=True, inplace=True)\n",
    "timetable_df = schedule_df.pivot(index=[\"Day\", \"Session\", \"Slot\"], columns=\"Room\", values=Col.submission)"
   ]
  },
  {
   "cell_type": "code",
   "execution_count": null,
   "metadata": {
    "tags": []
   },
   "outputs": [],
   "source": [
    "timetable_df"
   ]
  },
  {
   "cell_type": "code",
   "execution_count": null,
   "metadata": {
    "tags": []
   },
   "outputs": [],
   "source": [
    "def cell_content(sub):\n",
    "    talks_df_idx = talks_df.set_index(Col.submission)\n",
    "    main_track = talks_df_idx.loc[sub, \"Main track\"]\n",
    "    sub_track = talks_df_idx.loc[sub, \"Track\"]\n",
    "    sub_track_max = 20\n",
    "    sub_track = sub_track if len(sub_track) < sub_track_max else sub_track[:sub_track_max-3] + \"...\"\n",
    "    sponsored = \"\\nSponsored\" if sub in sponsored_talks else \"\"\n",
    "    content = f\"{sub2title[sub]}\\n{main_track}: {sub_track}\\n{talk_lengths[sub]}min\\nPop: {pops_dict[sub]:.0%}{sponsored}\"\n",
    "    return f'=HYPERLINK(\"https://pretalx.com/orga/event/{cfg[\"event_name\"]}/submissions/{sub}\", \"{content}\")'\n",
    "\n",
    "# make submission code a hyperlink\n",
    "sub2title = {t.code: t.title.replace('\"', \"'\") for t in talks}\n",
    "schedule_df[Col.submission] = schedule_df[Col.submission].map(cell_content)\n",
    "schedule_df[\"Room\"] = schedule_df[\"Room\"].map(lambda room: f\"{room} Cap: {room_caps_dict[room]:.0%}\")\n",
    "timetable_df = schedule_df.pivot(index=[\"Day\", \"Session\", \"Slot\"], columns=\"Room\", values=Col.submission)"
   ]
  },
  {
   "cell_type": "code",
   "execution_count": null,
   "metadata": {
    "tags": []
   },
   "outputs": [],
   "source": [
    "gsheet_client = GSheetsClient(read_only=False)"
   ]
  },
  {
   "cell_type": "code",
   "execution_count": null,
   "metadata": {
    "tags": []
   },
   "outputs": [],
   "source": [
    "gsheet_client.save_df_as_gsheet(timetable_df.reset_index(), cfg['schedule_spread_id'], cfg['schedule_work_name'])"
   ]
  },
  {
   "cell_type": "code",
   "execution_count": null,
   "metadata": {
    "tags": []
   },
   "outputs": [],
   "source": [
    "from gspread_formatting import set_column_width, set_row_height, cellFormat, format_cell_range\n",
    "\n",
    "worksheet = gsheet_client.gsheet(cfg['schedule_spread_id'], cfg['schedule_work_name'])\n",
    "set_column_width(worksheet, 'D:J', 200)\n",
    "set_row_height(worksheet, f\"2:{len(timetable_df)+1}\", 130)\n",
    "\n",
    "fmt = cellFormat(wrapStrategy='WRAP')\n",
    "format_cell_range(worksheet, worksheet_range(worksheet), fmt);"
   ]
  },
  {
   "cell_type": "markdown",
   "metadata": {},
   "source": [
    "## References\n",
    "* https://fran-espiga.medium.com/mixed-integer-programming-for-time-table-scheduling-eee326deda75\n",
    "* https://towardsdatascience.com/schedule-optimisation-using-linear-programming-in-python-9b3e1bc241e1\n",
    "* https://math.stackexchange.com/questions/432003/converting-absolute-value-program-into-linear-program"
   ]
  }
 ],
 "metadata": {
  "kernelspec": {
   "display_name": "pytanis",
   "language": "python",
   "name": "python3"
  },
  "language_info": {
   "codemirror_mode": {
    "name": "ipython",
    "version": 3
   },
   "file_extension": ".py",
   "mimetype": "text/x-python",
   "name": "python",
   "nbconvert_exporter": "python",
   "pygments_lexer": "ipython3",
   "version": "3.10.9"
  },
  "pycharm": {
   "stem_cell": {
    "cell_type": "raw",
    "metadata": {
     "collapsed": false
    },
    "source": []
   }
  }
 },
 "nbformat": 4,
 "nbformat_minor": 4
}
